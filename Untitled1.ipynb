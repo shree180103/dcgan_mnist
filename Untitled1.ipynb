{
  "cells": [
    {
      "cell_type": "markdown",
      "metadata": {
        "id": "view-in-github",
        "colab_type": "text"
      },
      "source": [
        "<a href=\"https://colab.research.google.com/github/shree180103/dcgan_mnist/blob/main/Untitled1.ipynb\" target=\"_parent\"><img src=\"https://colab.research.google.com/assets/colab-badge.svg\" alt=\"Open In Colab\"/></a>"
      ]
    },
    {
      "cell_type": "code",
      "execution_count": 10,
      "metadata": {
        "id": "TiQJdF6KJpSV"
      },
      "outputs": [],
      "source": [
        "import torch\n",
        "from torch import nn\n",
        "from torch.utils.data import DataLoader\n",
        "import torchvision\n",
        "from torchvision.transforms import ToTensor\n",
        "import torchvision.datasets as datasets\n",
        "import torchvision.transforms as transforms\n",
        "from torch.utils.tensorboard import SummaryWriter"
      ]
    },
    {
      "cell_type": "code",
      "execution_count": 2,
      "metadata": {
        "id": "lhKm4VEnVlRb"
      },
      "outputs": [],
      "source": [
        "class Discriminator(nn.Module):\n",
        "  def __init__(self,input_shape:int):\n",
        "    super().__init__()\n",
        "    self.conv_layer=nn.Sequential(\n",
        "        nn.Conv2d(in_channels=input_shape,out_channels=128,kernel_size=4,stride=2,padding=1,bias=False),\n",
        "        nn.BatchNorm2d(128),\n",
        "        nn.LeakyReLU(0.2),\n",
        "        nn.Conv2d(in_channels=128,out_channels=256,kernel_size=4,stride=2,padding=1,bias=False),\n",
        "        nn.BatchNorm2d(256),\n",
        "        nn.LeakyReLU(0.2),\n",
        "        nn.Conv2d(in_channels=256,out_channels=512,kernel_size=4,stride=2,padding=1,bias=False),\n",
        "        nn.BatchNorm2d(512),\n",
        "        nn.LeakyReLU(0.2),\n",
        "        nn.Conv2d(in_channels=512,out_channels=1024,kernel_size=4,stride=2,padding=1,bias=False),\n",
        "        nn.BatchNorm2d(1024),\n",
        "        nn.LeakyReLU(0.2),\n",
        "        nn.Conv2d(in_channels=1024,out_channels=1,kernel_size=4,stride=1,padding=0,bias=False),\n",
        "        nn.Sigmoid()\n",
        "\n",
        "\n",
        "    )\n",
        "\n",
        "  def forward(self,x):\n",
        "    return self.conv_layer(x)\n"
      ]
    },
    {
      "cell_type": "code",
      "source": [
        "class Generator(nn.Module):\n",
        "  def __init__(self,z_dim:int,img_channels):\n",
        "    super().__init__()\n",
        "    self.trans_conv_layer=nn.Sequential(\n",
        "        nn.ConvTranspose2d(in_channels=z_dim,out_channels=1024,kernel_size=4,stride=1,padding=0),\n",
        "        nn.BatchNorm2d(1024),\n",
        "        nn.ReLU(),\n",
        "        nn.ConvTranspose2d(in_channels=1024,out_channels=512,kernel_size=4,stride=2,padding=1),\n",
        "        nn.BatchNorm2d(512),\n",
        "        nn.ReLU(),\n",
        "        nn.ConvTranspose2d(in_channels=512,out_channels=256,kernel_size=4,stride=2,padding=1),\n",
        "        nn.BatchNorm2d(256),\n",
        "        nn.ReLU(),\n",
        "        nn.ConvTranspose2d(in_channels=256,out_channels=128,kernel_size=4,stride=2,padding=1),\n",
        "        nn.BatchNorm2d(128),\n",
        "        nn.ReLU(),\n",
        "        nn.ConvTranspose2d(in_channels=128,out_channels=img_channels,kernel_size=4,stride=2,padding=1),\n",
        "        nn.Tanh()\n",
        "\n",
        "\n",
        "    )\n",
        "\n",
        "  def forward(self,x):\n",
        "    return self.trans_conv_layer(x)\n",
        "\n",
        "\n",
        ""
      ],
      "metadata": {
        "id": "b5jIq0w7xUta"
      },
      "execution_count": 3,
      "outputs": []
    },
    {
      "cell_type": "code",
      "source": [
        "device=\"cuda\" if torch.cuda.is_available() else \"cpu\"\n",
        "n_c=1\n",
        "disc=Discriminator(input_shape=n_c).to(device)\n",
        "\n",
        "gen=Generator(z_dim=100,img_channels=n_c).to(device).to(device)\n"
      ],
      "metadata": {
        "id": "SgqYfq1gyxUN"
      },
      "execution_count": 4,
      "outputs": []
    },
    {
      "cell_type": "code",
      "source": [
        "from ast import Param\n",
        "\n",
        "# training params\n",
        "batch_size=128\n",
        "lr=0.0002\n",
        "z_dim=100\n",
        "img_size=64\n",
        "n_c=1\n",
        "\n",
        "transform=transforms.Compose(transforms=[transforms.ToTensor(),transforms.Resize((64,64)),transforms.Normalize([0.5 for _ in range(n_c)],[0.5 for _ in range(n_c)])])\n",
        "dataset=datasets.MNIST(root=\"data\",transform=transform,download=True)\n",
        "data_loader=DataLoader(dataset=dataset,batch_size=batch_size,shuffle=True,num_workers=2)\n",
        "\n"
      ],
      "metadata": {
        "id": "Wg_p5ZiMxez5"
      },
      "execution_count": 5,
      "outputs": []
    },
    {
      "cell_type": "code",
      "source": [
        "loss_fn=nn.BCELoss()\n",
        "optimizer_disc=torch.optim.Adam(params=disc.parameters(),lr=lr,betas=(0.5,0.999))\n",
        "optimizer_gen=torch.optim.Adam(params=gen.parameters(),lr=lr,betas=(0.5,0.999))"
      ],
      "metadata": {
        "id": "ZUtrrcrXEimX"
      },
      "execution_count": 6,
      "outputs": []
    },
    {
      "cell_type": "code",
      "source": [
        "writer_fake=SummaryWriter(f\"runs/GAN_MNIST/fake\")\n",
        "\n",
        "writer_real=SummaryWriter(f\"runs/GAN_MNIST/real\")\n",
        "\n",
        "step = 0\n",
        "\n",
        "fixed_noise = torch.randn(size=(32,z_dim,1,1))"
      ],
      "metadata": {
        "id": "C-x23M25F4AI"
      },
      "execution_count": 7,
      "outputs": []
    },
    {
      "cell_type": "code",
      "source": [
        "z=torch.rand(size=(1,100,1,1))\n",
        "z.shape"
      ],
      "metadata": {
        "colab": {
          "base_uri": "https://localhost:8080/"
        },
        "id": "Q4XN8ZZhHsni",
        "outputId": "a8356de1-908f-4ddd-d278-186c48c6adef"
      },
      "execution_count": 8,
      "outputs": [
        {
          "output_type": "execute_result",
          "data": {
            "text/plain": [
              "torch.Size([1, 100, 1, 1])"
            ]
          },
          "metadata": {},
          "execution_count": 8
        }
      ]
    },
    {
      "cell_type": "code",
      "source": [
        "img,label=next(iter(data_loader))\n",
        "img.shape"
      ],
      "metadata": {
        "colab": {
          "base_uri": "https://localhost:8080/"
        },
        "id": "Kwu9bmTeITpI",
        "outputId": "185d898e-144e-4bb0-ba93-c1fe0b05e5d4"
      },
      "execution_count": 9,
      "outputs": [
        {
          "output_type": "stream",
          "name": "stderr",
          "text": [
            "/usr/lib/python3.10/multiprocessing/popen_fork.py:66: RuntimeWarning: os.fork() was called. os.fork() is incompatible with multithreaded code, and JAX is multithreaded, so this will likely lead to a deadlock.\n",
            "  self.pid = os.fork()\n"
          ]
        },
        {
          "output_type": "execute_result",
          "data": {
            "text/plain": [
              "torch.Size([128, 1, 64, 64])"
            ]
          },
          "metadata": {},
          "execution_count": 9
        },
        {
          "output_type": "stream",
          "name": "stderr",
          "text": [
            "/usr/lib/python3.10/multiprocessing/popen_fork.py:66: RuntimeWarning: os.fork() was called. os.fork() is incompatible with multithreaded code, and JAX is multithreaded, so this will likely lead to a deadlock.\n",
            "  self.pid = os.fork()\n"
          ]
        }
      ]
    },
    {
      "cell_type": "code",
      "source": [
        "!pip install torchinfo"
      ],
      "metadata": {
        "colab": {
          "base_uri": "https://localhost:8080/"
        },
        "id": "HUAwCAKVMY1q",
        "outputId": "89aa96ff-419f-4140-82b3-66420e23475d"
      },
      "execution_count": 11,
      "outputs": [
        {
          "output_type": "stream",
          "name": "stdout",
          "text": [
            "Requirement already satisfied: torchinfo in /usr/local/lib/python3.10/dist-packages (1.8.0)\n"
          ]
        }
      ]
    },
    {
      "cell_type": "code",
      "source": [
        "from torchinfo import summary\n",
        "\n",
        "summary(disc,input_size=[1,1,64,64])"
      ],
      "metadata": {
        "colab": {
          "base_uri": "https://localhost:8080/"
        },
        "id": "yMEANMT0Ma7I",
        "outputId": "312ebdf2-cd73-48c9-b6d0-ebb6dafa9b24"
      },
      "execution_count": 12,
      "outputs": [
        {
          "output_type": "execute_result",
          "data": {
            "text/plain": [
              "==========================================================================================\n",
              "Layer (type:depth-idx)                   Output Shape              Param #\n",
              "==========================================================================================\n",
              "Discriminator                            [1, 1, 1, 1]              --\n",
              "├─Sequential: 1-1                        [1, 1, 1, 1]              --\n",
              "│    └─Conv2d: 2-1                       [1, 128, 32, 32]          2,048\n",
              "│    └─BatchNorm2d: 2-2                  [1, 128, 32, 32]          256\n",
              "│    └─LeakyReLU: 2-3                    [1, 128, 32, 32]          --\n",
              "│    └─Conv2d: 2-4                       [1, 256, 16, 16]          524,288\n",
              "│    └─BatchNorm2d: 2-5                  [1, 256, 16, 16]          512\n",
              "│    └─LeakyReLU: 2-6                    [1, 256, 16, 16]          --\n",
              "│    └─Conv2d: 2-7                       [1, 512, 8, 8]            2,097,152\n",
              "│    └─BatchNorm2d: 2-8                  [1, 512, 8, 8]            1,024\n",
              "│    └─LeakyReLU: 2-9                    [1, 512, 8, 8]            --\n",
              "│    └─Conv2d: 2-10                      [1, 1024, 4, 4]           8,388,608\n",
              "│    └─BatchNorm2d: 2-11                 [1, 1024, 4, 4]           2,048\n",
              "│    └─LeakyReLU: 2-12                   [1, 1024, 4, 4]           --\n",
              "│    └─Conv2d: 2-13                      [1, 1, 1, 1]              16,384\n",
              "│    └─Sigmoid: 2-14                     [1, 1, 1, 1]              --\n",
              "==========================================================================================\n",
              "Total params: 11,032,320\n",
              "Trainable params: 11,032,320\n",
              "Non-trainable params: 0\n",
              "Total mult-adds (M): 404.77\n",
              "==========================================================================================\n",
              "Input size (MB): 0.02\n",
              "Forward/backward pass size (MB): 3.93\n",
              "Params size (MB): 44.13\n",
              "Estimated Total Size (MB): 48.08\n",
              "=========================================================================================="
            ]
          },
          "metadata": {},
          "execution_count": 12
        }
      ]
    },
    {
      "cell_type": "code",
      "source": [
        "with torch.inference_mode():\n",
        "  print(disc(torch.rand(size=(1,1,64,64))).shape)\n"
      ],
      "metadata": {
        "colab": {
          "base_uri": "https://localhost:8080/"
        },
        "id": "l5_AocDkOeHP",
        "outputId": "f17ff2c3-a8ea-42c1-a9c5-6faeb1a995f7"
      },
      "execution_count": 13,
      "outputs": [
        {
          "output_type": "stream",
          "name": "stdout",
          "text": [
            "torch.Size([1, 1, 1, 1])\n"
          ]
        }
      ]
    },
    {
      "cell_type": "code",
      "source": [
        "with torch.inference_mode():\n",
        "  print(disc(torch.rand(size=(1,1,64,64))).reshape(-1))"
      ],
      "metadata": {
        "colab": {
          "base_uri": "https://localhost:8080/"
        },
        "id": "rbiG2BIrOhBP",
        "outputId": "f0054ff5-897b-4183-a4ba-26f5216807f5"
      },
      "execution_count": 14,
      "outputs": [
        {
          "output_type": "stream",
          "name": "stdout",
          "text": [
            "tensor([0.6098])\n"
          ]
        }
      ]
    },
    {
      "cell_type": "code",
      "source": [
        "summary(gen,input_size=[1,100,1,1])"
      ],
      "metadata": {
        "colab": {
          "base_uri": "https://localhost:8080/"
        },
        "id": "W965bqcpOn-i",
        "outputId": "74362ae9-f4b9-4ea2-830c-76e276824dfd"
      },
      "execution_count": 15,
      "outputs": [
        {
          "output_type": "execute_result",
          "data": {
            "text/plain": [
              "==========================================================================================\n",
              "Layer (type:depth-idx)                   Output Shape              Param #\n",
              "==========================================================================================\n",
              "Generator                                [1, 1, 64, 64]            --\n",
              "├─Sequential: 1-1                        [1, 1, 64, 64]            --\n",
              "│    └─ConvTranspose2d: 2-1              [1, 1024, 4, 4]           1,639,424\n",
              "│    └─BatchNorm2d: 2-2                  [1, 1024, 4, 4]           2,048\n",
              "│    └─ReLU: 2-3                         [1, 1024, 4, 4]           --\n",
              "│    └─ConvTranspose2d: 2-4              [1, 512, 8, 8]            8,389,120\n",
              "│    └─BatchNorm2d: 2-5                  [1, 512, 8, 8]            1,024\n",
              "│    └─ReLU: 2-6                         [1, 512, 8, 8]            --\n",
              "│    └─ConvTranspose2d: 2-7              [1, 256, 16, 16]          2,097,408\n",
              "│    └─BatchNorm2d: 2-8                  [1, 256, 16, 16]          512\n",
              "│    └─ReLU: 2-9                         [1, 256, 16, 16]          --\n",
              "│    └─ConvTranspose2d: 2-10             [1, 128, 32, 32]          524,416\n",
              "│    └─BatchNorm2d: 2-11                 [1, 128, 32, 32]          256\n",
              "│    └─ReLU: 2-12                        [1, 128, 32, 32]          --\n",
              "│    └─ConvTranspose2d: 2-13             [1, 1, 64, 64]            2,049\n",
              "│    └─Tanh: 2-14                        [1, 1, 64, 64]            --\n",
              "==========================================================================================\n",
              "Total params: 12,656,257\n",
              "Trainable params: 12,656,257\n",
              "Non-trainable params: 0\n",
              "Total mult-adds (G): 1.65\n",
              "==========================================================================================\n",
              "Input size (MB): 0.00\n",
              "Forward/backward pass size (MB): 3.96\n",
              "Params size (MB): 50.63\n",
              "Estimated Total Size (MB): 54.59\n",
              "=========================================================================================="
            ]
          },
          "metadata": {},
          "execution_count": 15
        }
      ]
    },
    {
      "cell_type": "code",
      "source": [
        "gen(z).shape"
      ],
      "metadata": {
        "colab": {
          "base_uri": "https://localhost:8080/"
        },
        "id": "uxJnE3EUQFnk",
        "outputId": "66ba7d5f-87b6-4571-81b0-8f05da38ef5e"
      },
      "execution_count": 16,
      "outputs": [
        {
          "output_type": "execute_result",
          "data": {
            "text/plain": [
              "torch.Size([1, 1, 64, 64])"
            ]
          },
          "metadata": {},
          "execution_count": 16
        }
      ]
    },
    {
      "cell_type": "code",
      "source": [
        "from tqdm.auto import tqdm\n",
        "\n",
        "epochs=3\n",
        "\n",
        "disc.train()\n",
        "gen.train()\n",
        "\n",
        "for epoch in tqdm(range(epochs)):\n",
        "  for batch_idx,(x,_) in enumerate(data_loader):\n",
        "    z=torch.rand(size=(batch_size,100,1,1))\n",
        "\n",
        "    ## traing the discriminator\n",
        "    disc_real=disc(x).reshape(-1)\n",
        "    loss_disc_real=loss_fn(disc_real,torch.ones_like(disc_real))\n",
        "\n",
        "    fake=gen(z)\n",
        "    disc_fake=disc(fake).reshape(-1)\n",
        "    loss_disc_fake=loss_fn(disc_fake,torch.zeros_like(disc_fake))\n",
        "\n",
        "    loss_disc=(loss_disc_fake+loss_disc_real)/2\n",
        "\n",
        "    disc.zero_grad()\n",
        "\n",
        "    loss_disc.backward(retain_graph=True)\n",
        "\n",
        "    optimizer_disc.step()\n",
        "\n",
        "    #training generator\n",
        "\n",
        "    fool_logits=disc(fake).reshape(-1)\n",
        "    loss_gen=loss_fn(fool_logits,torch.ones_like(disc_real))\n",
        "\n",
        "    gen.zero_grad()\n",
        "\n",
        "    loss_gen.backward()\n",
        "\n",
        "    optimizer_gen.step()\n",
        "\n",
        "    if batch_idx % 32== 0:\n",
        "            print(\n",
        "                f\"Epoch [{epoch}/{epochs}] Batch {batch_idx}/{len(data_loader)} \\\n",
        "                  Loss D: {loss_disc:.4f}, loss G: {loss_gen:.4f}\"\n",
        "            )\n",
        "\n",
        "            with torch.no_grad():\n",
        "                fake = gen(fixed_noise)\n",
        "                # take out (up to) 32 examples\n",
        "                img_grid_real = torchvision.utils.make_grid(x[:32], normalize=True)\n",
        "                img_grid_fake = torchvision.utils.make_grid(fake[:32], normalize=True)\n",
        "\n",
        "                writer_real.add_image(\"Real\", img_grid_real, global_step=step)\n",
        "                writer_fake.add_image(\"Fake\", img_grid_fake, global_step=step)\n",
        "\n",
        "            step += 1\n",
        "\n",
        "\n",
        "\n",
        "\n",
        "\n",
        "\n",
        "\n",
        "\n",
        "\n"
      ],
      "metadata": {
        "colab": {
          "base_uri": "https://localhost:8080/",
          "height": 121,
          "referenced_widgets": [
            "4bdeea9be3c84307a8833ee3023b38ba",
            "c52f050eaa3e4bc28f213079330a9674",
            "5eecfd73b1574daf82fba31a3925c10a",
            "68a066ca867147529486bc327aadc882",
            "6cc3a1ef7c944e23ba2752367f564a8c",
            "c9cf7e6064b64b6184b1c85c0482ec02",
            "8fa9374852b64e14b5d8424f3a842d05",
            "9915f2ab115348bfafd45b469916b4bc",
            "c5402dadac4948289f5f90a96d0dbb7a",
            "342e98046f814c54afde3e56586fd803",
            "49de3678e75d4a7bb17e664635c5ebe6"
          ]
        },
        "id": "e0JPu1g8zzwq",
        "outputId": "5a2716e1-a4b7-419f-8b79-436e53f93d8b"
      },
      "execution_count": null,
      "outputs": [
        {
          "output_type": "display_data",
          "data": {
            "text/plain": [
              "  0%|          | 0/3 [00:00<?, ?it/s]"
            ],
            "application/vnd.jupyter.widget-view+json": {
              "version_major": 2,
              "version_minor": 0,
              "model_id": "4bdeea9be3c84307a8833ee3023b38ba"
            }
          },
          "metadata": {}
        },
        {
          "output_type": "stream",
          "name": "stderr",
          "text": [
            "/usr/lib/python3.10/multiprocessing/popen_fork.py:66: RuntimeWarning: os.fork() was called. os.fork() is incompatible with multithreaded code, and JAX is multithreaded, so this will likely lead to a deadlock.\n",
            "  self.pid = os.fork()\n"
          ]
        },
        {
          "output_type": "stream",
          "name": "stdout",
          "text": [
            "Epoch [0/3] Batch 0/469                   Loss D: 0.8692, loss G: 31.5247\n"
          ]
        }
      ]
    },
    {
      "cell_type": "code",
      "source": [
        "%load_ext tensorboard\n",
        "%tensorboard --logdir runs"
      ],
      "metadata": {
        "id": "ys3y0zEMiUG7"
      },
      "execution_count": null,
      "outputs": []
    }
  ],
  "metadata": {
    "colab": {
      "provenance": [],
      "gpuType": "T4",
      "include_colab_link": true
    },
    "kernelspec": {
      "display_name": "Python 3",
      "name": "python3"
    },
    "language_info": {
      "name": "python"
    },
    "accelerator": "GPU",
    "widgets": {
      "application/vnd.jupyter.widget-state+json": {
        "4bdeea9be3c84307a8833ee3023b38ba": {
          "model_module": "@jupyter-widgets/controls",
          "model_name": "HBoxModel",
          "model_module_version": "1.5.0",
          "state": {
            "_dom_classes": [],
            "_model_module": "@jupyter-widgets/controls",
            "_model_module_version": "1.5.0",
            "_model_name": "HBoxModel",
            "_view_count": null,
            "_view_module": "@jupyter-widgets/controls",
            "_view_module_version": "1.5.0",
            "_view_name": "HBoxView",
            "box_style": "",
            "children": [
              "IPY_MODEL_c52f050eaa3e4bc28f213079330a9674",
              "IPY_MODEL_5eecfd73b1574daf82fba31a3925c10a",
              "IPY_MODEL_68a066ca867147529486bc327aadc882"
            ],
            "layout": "IPY_MODEL_6cc3a1ef7c944e23ba2752367f564a8c"
          }
        },
        "c52f050eaa3e4bc28f213079330a9674": {
          "model_module": "@jupyter-widgets/controls",
          "model_name": "HTMLModel",
          "model_module_version": "1.5.0",
          "state": {
            "_dom_classes": [],
            "_model_module": "@jupyter-widgets/controls",
            "_model_module_version": "1.5.0",
            "_model_name": "HTMLModel",
            "_view_count": null,
            "_view_module": "@jupyter-widgets/controls",
            "_view_module_version": "1.5.0",
            "_view_name": "HTMLView",
            "description": "",
            "description_tooltip": null,
            "layout": "IPY_MODEL_c9cf7e6064b64b6184b1c85c0482ec02",
            "placeholder": "​",
            "style": "IPY_MODEL_8fa9374852b64e14b5d8424f3a842d05",
            "value": "  0%"
          }
        },
        "5eecfd73b1574daf82fba31a3925c10a": {
          "model_module": "@jupyter-widgets/controls",
          "model_name": "FloatProgressModel",
          "model_module_version": "1.5.0",
          "state": {
            "_dom_classes": [],
            "_model_module": "@jupyter-widgets/controls",
            "_model_module_version": "1.5.0",
            "_model_name": "FloatProgressModel",
            "_view_count": null,
            "_view_module": "@jupyter-widgets/controls",
            "_view_module_version": "1.5.0",
            "_view_name": "ProgressView",
            "bar_style": "",
            "description": "",
            "description_tooltip": null,
            "layout": "IPY_MODEL_9915f2ab115348bfafd45b469916b4bc",
            "max": 3,
            "min": 0,
            "orientation": "horizontal",
            "style": "IPY_MODEL_c5402dadac4948289f5f90a96d0dbb7a",
            "value": 0
          }
        },
        "68a066ca867147529486bc327aadc882": {
          "model_module": "@jupyter-widgets/controls",
          "model_name": "HTMLModel",
          "model_module_version": "1.5.0",
          "state": {
            "_dom_classes": [],
            "_model_module": "@jupyter-widgets/controls",
            "_model_module_version": "1.5.0",
            "_model_name": "HTMLModel",
            "_view_count": null,
            "_view_module": "@jupyter-widgets/controls",
            "_view_module_version": "1.5.0",
            "_view_name": "HTMLView",
            "description": "",
            "description_tooltip": null,
            "layout": "IPY_MODEL_342e98046f814c54afde3e56586fd803",
            "placeholder": "​",
            "style": "IPY_MODEL_49de3678e75d4a7bb17e664635c5ebe6",
            "value": " 0/3 [00:00&lt;?, ?it/s]"
          }
        },
        "6cc3a1ef7c944e23ba2752367f564a8c": {
          "model_module": "@jupyter-widgets/base",
          "model_name": "LayoutModel",
          "model_module_version": "1.2.0",
          "state": {
            "_model_module": "@jupyter-widgets/base",
            "_model_module_version": "1.2.0",
            "_model_name": "LayoutModel",
            "_view_count": null,
            "_view_module": "@jupyter-widgets/base",
            "_view_module_version": "1.2.0",
            "_view_name": "LayoutView",
            "align_content": null,
            "align_items": null,
            "align_self": null,
            "border": null,
            "bottom": null,
            "display": null,
            "flex": null,
            "flex_flow": null,
            "grid_area": null,
            "grid_auto_columns": null,
            "grid_auto_flow": null,
            "grid_auto_rows": null,
            "grid_column": null,
            "grid_gap": null,
            "grid_row": null,
            "grid_template_areas": null,
            "grid_template_columns": null,
            "grid_template_rows": null,
            "height": null,
            "justify_content": null,
            "justify_items": null,
            "left": null,
            "margin": null,
            "max_height": null,
            "max_width": null,
            "min_height": null,
            "min_width": null,
            "object_fit": null,
            "object_position": null,
            "order": null,
            "overflow": null,
            "overflow_x": null,
            "overflow_y": null,
            "padding": null,
            "right": null,
            "top": null,
            "visibility": null,
            "width": null
          }
        },
        "c9cf7e6064b64b6184b1c85c0482ec02": {
          "model_module": "@jupyter-widgets/base",
          "model_name": "LayoutModel",
          "model_module_version": "1.2.0",
          "state": {
            "_model_module": "@jupyter-widgets/base",
            "_model_module_version": "1.2.0",
            "_model_name": "LayoutModel",
            "_view_count": null,
            "_view_module": "@jupyter-widgets/base",
            "_view_module_version": "1.2.0",
            "_view_name": "LayoutView",
            "align_content": null,
            "align_items": null,
            "align_self": null,
            "border": null,
            "bottom": null,
            "display": null,
            "flex": null,
            "flex_flow": null,
            "grid_area": null,
            "grid_auto_columns": null,
            "grid_auto_flow": null,
            "grid_auto_rows": null,
            "grid_column": null,
            "grid_gap": null,
            "grid_row": null,
            "grid_template_areas": null,
            "grid_template_columns": null,
            "grid_template_rows": null,
            "height": null,
            "justify_content": null,
            "justify_items": null,
            "left": null,
            "margin": null,
            "max_height": null,
            "max_width": null,
            "min_height": null,
            "min_width": null,
            "object_fit": null,
            "object_position": null,
            "order": null,
            "overflow": null,
            "overflow_x": null,
            "overflow_y": null,
            "padding": null,
            "right": null,
            "top": null,
            "visibility": null,
            "width": null
          }
        },
        "8fa9374852b64e14b5d8424f3a842d05": {
          "model_module": "@jupyter-widgets/controls",
          "model_name": "DescriptionStyleModel",
          "model_module_version": "1.5.0",
          "state": {
            "_model_module": "@jupyter-widgets/controls",
            "_model_module_version": "1.5.0",
            "_model_name": "DescriptionStyleModel",
            "_view_count": null,
            "_view_module": "@jupyter-widgets/base",
            "_view_module_version": "1.2.0",
            "_view_name": "StyleView",
            "description_width": ""
          }
        },
        "9915f2ab115348bfafd45b469916b4bc": {
          "model_module": "@jupyter-widgets/base",
          "model_name": "LayoutModel",
          "model_module_version": "1.2.0",
          "state": {
            "_model_module": "@jupyter-widgets/base",
            "_model_module_version": "1.2.0",
            "_model_name": "LayoutModel",
            "_view_count": null,
            "_view_module": "@jupyter-widgets/base",
            "_view_module_version": "1.2.0",
            "_view_name": "LayoutView",
            "align_content": null,
            "align_items": null,
            "align_self": null,
            "border": null,
            "bottom": null,
            "display": null,
            "flex": null,
            "flex_flow": null,
            "grid_area": null,
            "grid_auto_columns": null,
            "grid_auto_flow": null,
            "grid_auto_rows": null,
            "grid_column": null,
            "grid_gap": null,
            "grid_row": null,
            "grid_template_areas": null,
            "grid_template_columns": null,
            "grid_template_rows": null,
            "height": null,
            "justify_content": null,
            "justify_items": null,
            "left": null,
            "margin": null,
            "max_height": null,
            "max_width": null,
            "min_height": null,
            "min_width": null,
            "object_fit": null,
            "object_position": null,
            "order": null,
            "overflow": null,
            "overflow_x": null,
            "overflow_y": null,
            "padding": null,
            "right": null,
            "top": null,
            "visibility": null,
            "width": null
          }
        },
        "c5402dadac4948289f5f90a96d0dbb7a": {
          "model_module": "@jupyter-widgets/controls",
          "model_name": "ProgressStyleModel",
          "model_module_version": "1.5.0",
          "state": {
            "_model_module": "@jupyter-widgets/controls",
            "_model_module_version": "1.5.0",
            "_model_name": "ProgressStyleModel",
            "_view_count": null,
            "_view_module": "@jupyter-widgets/base",
            "_view_module_version": "1.2.0",
            "_view_name": "StyleView",
            "bar_color": null,
            "description_width": ""
          }
        },
        "342e98046f814c54afde3e56586fd803": {
          "model_module": "@jupyter-widgets/base",
          "model_name": "LayoutModel",
          "model_module_version": "1.2.0",
          "state": {
            "_model_module": "@jupyter-widgets/base",
            "_model_module_version": "1.2.0",
            "_model_name": "LayoutModel",
            "_view_count": null,
            "_view_module": "@jupyter-widgets/base",
            "_view_module_version": "1.2.0",
            "_view_name": "LayoutView",
            "align_content": null,
            "align_items": null,
            "align_self": null,
            "border": null,
            "bottom": null,
            "display": null,
            "flex": null,
            "flex_flow": null,
            "grid_area": null,
            "grid_auto_columns": null,
            "grid_auto_flow": null,
            "grid_auto_rows": null,
            "grid_column": null,
            "grid_gap": null,
            "grid_row": null,
            "grid_template_areas": null,
            "grid_template_columns": null,
            "grid_template_rows": null,
            "height": null,
            "justify_content": null,
            "justify_items": null,
            "left": null,
            "margin": null,
            "max_height": null,
            "max_width": null,
            "min_height": null,
            "min_width": null,
            "object_fit": null,
            "object_position": null,
            "order": null,
            "overflow": null,
            "overflow_x": null,
            "overflow_y": null,
            "padding": null,
            "right": null,
            "top": null,
            "visibility": null,
            "width": null
          }
        },
        "49de3678e75d4a7bb17e664635c5ebe6": {
          "model_module": "@jupyter-widgets/controls",
          "model_name": "DescriptionStyleModel",
          "model_module_version": "1.5.0",
          "state": {
            "_model_module": "@jupyter-widgets/controls",
            "_model_module_version": "1.5.0",
            "_model_name": "DescriptionStyleModel",
            "_view_count": null,
            "_view_module": "@jupyter-widgets/base",
            "_view_module_version": "1.2.0",
            "_view_name": "StyleView",
            "description_width": ""
          }
        }
      }
    }
  },
  "nbformat": 4,
  "nbformat_minor": 0
}